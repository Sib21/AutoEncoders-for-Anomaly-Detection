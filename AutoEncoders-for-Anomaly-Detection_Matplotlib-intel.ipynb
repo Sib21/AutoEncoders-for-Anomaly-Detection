import warnings
warnings.filterwarnings("ignore")

import numpy
import pandas
import matplotlib
import seaborn
import tensorflow
import keras

print('Numpy version      :' , numpy.__version__)
print('Pandas version     :' ,pandas.__version__)
print('matplotlib version :' ,matplotlib.__version__)
print('seaborn version    :' , seaborn.__version__)
print('tensorflow version :' , tensorflow.__version__)
print('keras version      :' , keras.__version__)

import numpy as np
import pandas as pd
pd.set_option('display.max_columns', None)
pd.set_option('display.max_row', None)
import matplotlib.pyplot as plt
plt.rcdefaults()
from pylab import rcParams
import seaborn as sns
%matplotlib inline

####### Deep learning libraries
import tensorflow as tf
import keras
from keras.models import Model, load_model
from keras.layers import Input, Dense
from keras.callbacks import ModelCheckpoint, TensorBoard
from keras import regularizers
from ann_visualizer.visualize import ann_viz
# 
from sklearn.preprocessing import  StandardScaler, MinMaxScaler
from sklearn.model_selection import train_test_split

from sklearn.metrics import (confusion_matrix, classification_report, accuracy_score, roc_auc_score, auc,
                             precision_score, recall_score, roc_curve, precision_recall_curve,
                             precision_recall_fscore_support, f1_score,
                             precision_recall_fscore_support)
#
from IPython.display import display, Math, Latex

df = pd.read_csv('data3.txt',sep=" ",index_col=0)
df.index
df.reset_index(inplace=True, drop= True)
df.index
df.head()
df.shape
df.Label.value_counts()
df.Label.value_counts(normalize=True)*100
df.columns

#numerical_cols = ['V_1', 'V_2', 'V_3', 'V_4', 'V_5', 'V_6', 'V_7', 'V_8', 'V_9']
#numerical_cols = ['date','epoch', 'moteid', 'temperature' , 'humidity' , 'light' ,'voltage']
numerical_cols = ['temperature' , 'humidity' , 'light' ,'voltage']

df.Label.unique()

labels = df['Label'].astype(int)
labels[labels != 0] = 1

len(labels[labels !=0])

df.Label.value_counts().tolist()

#df.fillna(0)
df1 = df[df.isna().any(axis=1)]
df1.head()

df.isnull().any()

plt.figure(figsize=(8,6))
objects = tuple(['0', '1']) 
y_pos = np.arange(len(objects))
x   = np.arange(len(objects))
y   = df.Label.value_counts().tolist()
#plt.ylim([0, 1.2])
plt.bar(x, y, align='center', alpha=0.5)
plt.xticks(y_pos, objects,fontsize=18)
plt.xlabel('Label', fontsize=18)
plt.ylabel('Frequency', fontsize=18)
plt.title('Data per Label',fontsize=18)

RANDOM_SEED = 101

X_train, X_test = train_test_split(df, test_size=0.3, random_state = RANDOM_SEED)

#X_train = X_train[X_train['Label'] == 0]
X_train = X_train.drop(['time','date','epoch','moteid'], axis=1)
#X_train = X_train.drop(['V_1','V_2','V_5','V_6','V_7'], axis=1)
#X_train = X_train.drop(['time'], axis=1)
y_test  = X_test['Label']
X_test  = X_test.drop(['time','date','epoch','moteid'], axis=1)
#X_test  = X_test.drop(['V_1','V_2','V_5','V_6','V_7'], axis=1)
#X_train = X_test.drop(['time'], axis=1)
X_train = X_train.values
X_test  = X_test.values
print('Training data size   :', X_train.shape)
print('Validation data size :', X_test.shape)

scaler = MinMaxScaler()
#scaler = StandardScaler()
X_train_scaled = scaler.fit_transform(X_train)
X_test_scaled  = scaler.transform(X_test)

input_dim = X_train.shape[1]
encoding_dim = 6

input_layer = Input(shape=(input_dim, ))
encoder = Dense(encoding_dim, activation="tanh",activity_regularizer=regularizers.l1(10e-5))(input_layer)
encoder = Dense(int(encoding_dim / 2), activation="tanh")(encoder)
encoder = Dense(int(encoding_dim / 4), activation="tanh")(encoder)
decoder = Dense(int(encoding_dim/ 2), activation='tanh')(encoder)
decoder = Dense(int(encoding_dim), activation='tanh')(decoder)
decoder = Dense(input_dim, activation='tanh')(decoder)
autoencoder = Model(inputs=input_layer, outputs=decoder)
autoencoder.summary()

nb_epoch = 100
batch_size = 50 
autoencoder.compile(optimizer='adam', loss='mse' )

history = autoencoder.fit(X_train_scaled, X_train_scaled,
                        #X_train, X_train,
                        epochs=nb_epoch,
                        batch_size=batch_size,
                        shuffle=True,
                        validation_split=0.1,
                        #verbose=0
                        ).history

# validation_data=(X_test_scaled, X_test_scaled)

plt.figure(figsize=(12,8))
plt.plot(history['loss'])
plt.plot(history['val_loss'])
plt.ylabel('Loss',fontsize= 18)
plt.xlabel('Epoch',fontsize= 18)
plt.legend(['train', 'test'], loc='upper right', fontsize= 18);

predictions = autoencoder.predict(X_test_scaled)

mse = np.mean(np.power(X_test_scaled - predictions, 2), axis=1)
df_error = pd.DataFrame({'reconstruction_error': mse, 'Label': y_test}, index=y_test.index)
df_error.describe()


predictions = autoencoder.predict(X_test_scaled)

from sklearn.metrics import precision_score
precision_score(X_train_scaled, history, average='macro')

plt.figure(figsize=(16,8))
plt.scatter(df_error.index, df_error['reconstruction_error'], c=df_error['Label'], edgecolor='black', s=25)
plt.xlabel('Data Index', fontsize = 18)
plt.ylabel('Reconstruction Error', fontsize = 18)
plt.xlim((-100,4600))
plt.title("Outlier Score")

df_error.sort_values(ascending=False, by = 'reconstruction_error').head(10)

df_error.describe()

outliers = df_error.index[df_error.reconstruction_error > 0.1].tolist()

data_n = pd.DataFrame(X_test_scaled, index= y_test.index, columns=numerical_cols)

data_n.head()
def compute_error_per_dim(point):
    
    initial_pt = np.array(data_n.loc[point,:]).reshape(1,4)
    reconstrcuted_pt = autoencoder.predict(initial_pt)
    
    return abs(np.array(initial_pt  - reconstrcuted_pt)[0])
    
for i in outliers[:5]:
    
    plt.figure(figsize=(10,6))
    objects = tuple(numerical_cols) 
    y_pos   = np.arange(len(objects))
    x       = np.arange(len(objects))
    y       = compute_error_per_dim(i).tolist()
    plt.ylim([0, 1.0])
    plt.bar(x, y, align='center', alpha=0.5)
    plt.xticks(y_pos, objects)
    plt.xlabel('Variables',fontsize=18)
    plt.ylabel('Reconstruction Error', fontsize=18)
    plt.title('Reconstruction Error-vs-Variables of {}'.format(i))
